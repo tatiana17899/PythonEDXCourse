{
  "nbformat": 4,
  "nbformat_minor": 0,
  "metadata": {
    "colab": {
      "provenance": [],
      "authorship_tag": "ABX9TyPnKf73yPAihJHbqrQdPGv2",
      "include_colab_link": true
    },
    "kernelspec": {
      "name": "python3",
      "display_name": "Python 3"
    },
    "language_info": {
      "name": "python"
    }
  },
  "cells": [
    {
      "cell_type": "markdown",
      "metadata": {
        "id": "view-in-github",
        "colab_type": "text"
      },
      "source": [
        "<a href=\"https://colab.research.google.com/github/tatiana17899/PythonEDXCourse/blob/main/Ejercicio_4.ipynb\" target=\"_parent\"><img src=\"https://colab.research.google.com/assets/colab-badge.svg\" alt=\"Open In Colab\"/></a>"
      ]
    },
    {
      "cell_type": "code",
      "source": [
        "# Pseudocódigo para calcular el sueldo bruto de un trabajador con horas extras.\n",
        "\n",
        "# Establecer las constantes.\n",
        "# Pago por hora estándar = $15\n",
        "# Factor de horas extra = 1.5\n",
        "# Horas estándar = 40\n",
        "\n",
        "# Inicializar las variables de entrada.\n",
        "# horas_trabajadas = 45 (Dado en el problema)\n",
        "\n",
        "# Inicializar variables de salida.\n",
        "# pago_estandar = 0 (Para calcular el pago de las primeras 40 horas)\n",
        "# pago_extra = 0 (Para calcular el pago de las horas extras)\n",
        "# pago_total = 0 (Para calcular el pago total)\n",
        "\n",
        "# PASO 1: Calcular el pago por las horas estándar.\n",
        "# Si las horas trabajadas son mayores o iguales a 40:\n",
        "#     pago_estandar = 40 * pago_por_hora\n",
        "\n",
        "# PASO 2: Calcular el pago de las horas extras.\n",
        "# Si las horas trabajadas son mayores a 40:\n",
        "#     horas_extra = horas_trabajadas - 40\n",
        "#     pago_extra = horas_extra * pago_por_hora * factor_horas_extra\n",
        "\n",
        "# PASO 3: Calcular el pago total.\n",
        "# pago_total = pago_estandar + pago_extra\n",
        "\n",
        "# PASO 4: Mostrar los resultados.\n",
        "# Imprimir \"Pago por horas estándar: $pago_estandar\"\n",
        "# Resultado esperado: \"Pago por horas estándar: $600\"\n",
        "\n",
        "# Imprimir \"Pago por horas extra: $pago_extra\"\n",
        "# Resultado esperado: \"Pago por horas extra: $112.5\"\n",
        "\n",
        "# Imprimir \"Pago total: $pago_total\"\n",
        "# Resultado esperado: \"Pago total: $712.5\"\n",
        "\n"
      ],
      "metadata": {
        "colab": {
          "base_uri": "https://localhost:8080/"
        },
        "id": "tfIjWv6tmh_p",
        "outputId": "a690a5ec-df77-4ecc-89e2-4b6018f8628e"
      },
      "execution_count": 2,
      "outputs": [
        {
          "name": "stdout",
          "output_type": "stream",
          "text": [
            "Ingrese su nombre preferidoTatiana\n"
          ]
        }
      ]
    }
  ]
}