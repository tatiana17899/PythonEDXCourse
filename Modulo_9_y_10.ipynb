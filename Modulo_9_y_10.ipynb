{
  "nbformat": 4,
  "nbformat_minor": 0,
  "metadata": {
    "colab": {
      "provenance": [],
      "authorship_tag": "ABX9TyMeX2vs9JgGdOYKye2OuoqI",
      "include_colab_link": true
    },
    "kernelspec": {
      "name": "python3",
      "display_name": "Python 3"
    },
    "language_info": {
      "name": "python"
    }
  },
  "cells": [
    {
      "cell_type": "markdown",
      "metadata": {
        "id": "view-in-github",
        "colab_type": "text"
      },
      "source": [
        "<a href=\"https://colab.research.google.com/github/tatiana17899/PythonEDXCourse/blob/main/Modulo_9_y_10.ipynb\" target=\"_parent\"><img src=\"https://colab.research.google.com/assets/colab-badge.svg\" alt=\"Open In Colab\"/></a>"
      ]
    },
    {
      "cell_type": "code",
      "source": [
        "roundTripMilles = 13.5 * 2\n",
        "weeklyMiles = roundTripMilles * 4\n",
        "gallons = weeklyMiles/22.2\n",
        "totalCost = gallons * 3.54\n"
      ],
      "metadata": {
        "id": "Hn88UDThgiRy"
      },
      "execution_count": 30,
      "outputs": []
    },
    {
      "cell_type": "code",
      "source": [
        "print(\"Your Weekly cost is: \" + f\"{totalCost}\") #convertimos el numero a str con todas sus decimales"
      ],
      "metadata": {
        "colab": {
          "base_uri": "https://localhost:8080/"
        },
        "id": "PnqczQ4whyQh",
        "outputId": "7c62248d-613d-4b07-d055-479f71c51b17"
      },
      "execution_count": 32,
      "outputs": [
        {
          "output_type": "stream",
          "name": "stdout",
          "text": [
            "Your Weekly cost is: 17.221621621621622\n"
          ]
        }
      ]
    },
    {
      "cell_type": "code",
      "source": [
        "print(\"Your Weekly cost is: \" + f\"{totalCost:.4}\") #redondea el totalCost a dos decimales"
      ],
      "metadata": {
        "colab": {
          "base_uri": "https://localhost:8080/"
        },
        "id": "Ms4Nu4_Vi9d8",
        "outputId": "f63f7291-ada4-4ada-c00a-11d63369381b"
      },
      "execution_count": 33,
      "outputs": [
        {
          "output_type": "stream",
          "name": "stdout",
          "text": [
            "Your Weekly cost is: 17.22\n"
          ]
        }
      ]
    },
    {
      "cell_type": "code",
      "source": [
        "print(\"Your Weekly cost is: \" + f\"{totalCost:.4f}\")#redondea el totalCost a 4 decimales"
      ],
      "metadata": {
        "colab": {
          "base_uri": "https://localhost:8080/"
        },
        "id": "X9tpMS32kEC5",
        "outputId": "4bf5d386-f1a5-4bea-9689-f90217d0cdc1"
      },
      "execution_count": 35,
      "outputs": [
        {
          "output_type": "stream",
          "name": "stdout",
          "text": [
            "Your Weekly cost is: 17.2216\n"
          ]
        }
      ]
    },
    {
      "cell_type": "code",
      "source": [
        "print(\"Your Weekly cost is: \" + f\"{totalCost:.3f}\") #redondea el totalCost a 3 decimales"
      ],
      "metadata": {
        "colab": {
          "base_uri": "https://localhost:8080/"
        },
        "id": "yoN3vcb4kG76",
        "outputId": "a769aaa3-8658-4441-e5c3-2bc91fe1b2e9"
      },
      "execution_count": 36,
      "outputs": [
        {
          "output_type": "stream",
          "name": "stdout",
          "text": [
            "Your Weekly cost is: 17.222\n"
          ]
        }
      ]
    },
    {
      "cell_type": "code",
      "source": [
        "print(\"Your Weekly cost is: \" + f\"{totalCost:.3}\") #redondea el totalCost a un decimal"
      ],
      "metadata": {
        "colab": {
          "base_uri": "https://localhost:8080/"
        },
        "id": "1utw0twNkMd2",
        "outputId": "fc23ae0d-6645-4103-e358-d96c4bc77318"
      },
      "execution_count": 37,
      "outputs": [
        {
          "output_type": "stream",
          "name": "stdout",
          "text": [
            "Your Weekly cost is: 17.2\n"
          ]
        }
      ]
    },
    {
      "cell_type": "code",
      "source": [
        "print(\"Your Weekly cost is: \" + f\"{totalCost:.2}\") #infinito"
      ],
      "metadata": {
        "colab": {
          "base_uri": "https://localhost:8080/"
        },
        "id": "O6iK_5rJkSME",
        "outputId": "60746a62-9582-480d-ccd7-b8f31305a45a"
      },
      "execution_count": 38,
      "outputs": [
        {
          "output_type": "stream",
          "name": "stdout",
          "text": [
            "Your Weekly cost is: 1.7e+01\n"
          ]
        }
      ]
    },
    {
      "cell_type": "code",
      "source": [
        "numero = int(input(\"Ingresa un número\"))"
      ],
      "metadata": {
        "id": "hXmX-dXUkaAC"
      },
      "execution_count": null,
      "outputs": []
    },
    {
      "cell_type": "markdown",
      "source": [],
      "metadata": {
        "id": "3H0tsTjxkZcF"
      }
    }
  ]
}