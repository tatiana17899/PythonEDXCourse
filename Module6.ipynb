{
  "nbformat": 4,
  "nbformat_minor": 0,
  "metadata": {
    "colab": {
      "provenance": [],
      "authorship_tag": "ABX9TyMVUe5gBbTWE89RSSCYTKq4",
      "include_colab_link": true
    },
    "kernelspec": {
      "name": "python3",
      "display_name": "Python 3"
    },
    "language_info": {
      "name": "python"
    }
  },
  "cells": [
    {
      "cell_type": "markdown",
      "metadata": {
        "id": "view-in-github",
        "colab_type": "text"
      },
      "source": [
        "<a href=\"https://colab.research.google.com/github/tatiana17899/PythonEDXCourse/blob/main/Module6.ipynb\" target=\"_parent\"><img src=\"https://colab.research.google.com/assets/colab-badge.svg\" alt=\"Open In Colab\"/></a>"
      ]
    },
    {
      "cell_type": "code",
      "source": [
        "x=10\n",
        "y=9\n",
        "print(x + y)"
      ],
      "metadata": {
        "id": "lFbzRUeZ4j66",
        "colab": {
          "base_uri": "https://localhost:8080/"
        },
        "outputId": "95c3af6e-2db6-4851-ff62-f9883bf9e241"
      },
      "execution_count": null,
      "outputs": [
        {
          "output_type": "stream",
          "name": "stdout",
          "text": [
            "19\n"
          ]
        }
      ]
    },
    {
      "cell_type": "code",
      "source": [
        "print(x , y)"
      ],
      "metadata": {
        "colab": {
          "base_uri": "https://localhost:8080/"
        },
        "id": "SmGP-tmxir4K",
        "outputId": "3cdb920e-73f2-48c2-dea1-74fd3d2f8650"
      },
      "execution_count": null,
      "outputs": [
        {
          "output_type": "stream",
          "name": "stdout",
          "text": [
            "10 9\n"
          ]
        }
      ]
    },
    {
      "cell_type": "code",
      "source": [
        "result= 89+y\n",
        "print(result)"
      ],
      "metadata": {
        "colab": {
          "base_uri": "https://localhost:8080/"
        },
        "id": "XXZG0ih5jBHI",
        "outputId": "79d3ddc3-f425-4bb9-80bc-937cd2a4462d"
      },
      "execution_count": null,
      "outputs": [
        {
          "output_type": "stream",
          "name": "stdout",
          "text": [
            "98\n"
          ]
        }
      ]
    },
    {
      "cell_type": "code",
      "source": [
        "#precio de un ptoducto con su tasa de interes\n",
        "precio = 10 #precio del producto único\n",
        "tasa = 0.6 #tasa de interés en PA\n",
        "impuesto = precio * tasa\n"
      ],
      "metadata": {
        "id": "sajfuJ9Hk7GF"
      },
      "execution_count": null,
      "outputs": []
    },
    {
      "cell_type": "code",
      "source": [
        "print(\"Total: \", impuesto) #solo strings se puede concatenar (+)"
      ],
      "metadata": {
        "colab": {
          "base_uri": "https://localhost:8080/"
        },
        "id": "DflBxo8Sm_Si",
        "outputId": "fcc5b4cc-46c3-418a-d962-06f17ceae7c4"
      },
      "execution_count": null,
      "outputs": [
        {
          "output_type": "stream",
          "name": "stdout",
          "text": [
            "Total:  6.0\n"
          ]
        }
      ]
    }
  ]
}