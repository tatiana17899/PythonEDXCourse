{
  "nbformat": 4,
  "nbformat_minor": 0,
  "metadata": {
    "colab": {
      "provenance": [],
      "authorship_tag": "ABX9TyNiNwc97VEV/ma3QuiJ8tCN",
      "include_colab_link": true
    },
    "kernelspec": {
      "name": "python3",
      "display_name": "Python 3"
    },
    "language_info": {
      "name": "python"
    }
  },
  "cells": [
    {
      "cell_type": "markdown",
      "metadata": {
        "id": "view-in-github",
        "colab_type": "text"
      },
      "source": [
        "<a href=\"https://colab.research.google.com/github/tatiana17899/PythonEDXCourse/blob/main/Modulo_8.ipynb\" target=\"_parent\"><img src=\"https://colab.research.google.com/assets/colab-badge.svg\" alt=\"Open In Colab\"/></a>"
      ]
    },
    {
      "cell_type": "code",
      "source": [
        "name= input(\"Escribe tu nombre \")\n"
      ],
      "metadata": {
        "colab": {
          "base_uri": "https://localhost:8080/"
        },
        "id": "_C7IKYcndG34",
        "outputId": "d89950e0-621a-4a8a-987b-4a7ec375d562"
      },
      "execution_count": 21,
      "outputs": [
        {
          "name": "stdout",
          "output_type": "stream",
          "text": [
            "Escribe tu nombre Tatiana\n"
          ]
        }
      ]
    },
    {
      "cell_type": "code",
      "source": [
        "name"
      ],
      "metadata": {
        "colab": {
          "base_uri": "https://localhost:8080/",
          "height": 36
        },
        "id": "yrvGxwsBd9wF",
        "outputId": "11af47d5-de71-49e5-b678-6498cb1a406d"
      },
      "execution_count": 22,
      "outputs": [
        {
          "output_type": "execute_result",
          "data": {
            "text/plain": [
              "'Tatiana'"
            ],
            "application/vnd.google.colaboratory.intrinsic+json": {
              "type": "string"
            }
          },
          "metadata": {},
          "execution_count": 22
        }
      ]
    },
    {
      "cell_type": "code",
      "source": [
        "print(name)"
      ],
      "metadata": {
        "colab": {
          "base_uri": "https://localhost:8080/"
        },
        "id": "hMSzx1p_eSUZ",
        "outputId": "5d1c9ec5-273e-475e-f776-c99582ecf0aa"
      },
      "execution_count": 23,
      "outputs": [
        {
          "output_type": "stream",
          "name": "stdout",
          "text": [
            "Tatiana\n"
          ]
        }
      ]
    },
    {
      "cell_type": "code",
      "source": [
        "print('Hello'+ \" \"+ name)"
      ],
      "metadata": {
        "colab": {
          "base_uri": "https://localhost:8080/"
        },
        "id": "4WodHypHeUbB",
        "outputId": "0459e232-4bf9-4aae-ef52-a16f56488959"
      },
      "execution_count": 25,
      "outputs": [
        {
          "output_type": "stream",
          "name": "stdout",
          "text": [
            "Hello Tatiana\n"
          ]
        }
      ]
    },
    {
      "cell_type": "code",
      "source": [
        "name= 256.4"
      ],
      "metadata": {
        "id": "RTIJJJPFepAk"
      },
      "execution_count": 26,
      "outputs": []
    },
    {
      "cell_type": "code",
      "source": [
        "name"
      ],
      "metadata": {
        "colab": {
          "base_uri": "https://localhost:8080/"
        },
        "id": "adwH7-57erkQ",
        "outputId": "de68ccf0-4997-4bf4-9801-80411dca4148"
      },
      "execution_count": 27,
      "outputs": [
        {
          "output_type": "execute_result",
          "data": {
            "text/plain": [
              "256.4"
            ]
          },
          "metadata": {},
          "execution_count": 27
        }
      ]
    }
  ]
}