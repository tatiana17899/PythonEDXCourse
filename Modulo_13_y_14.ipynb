{
  "nbformat": 4,
  "nbformat_minor": 0,
  "metadata": {
    "colab": {
      "provenance": [],
      "authorship_tag": "ABX9TyOcKRdv6zu6ywNU+SUIgygU",
      "include_colab_link": true
    },
    "kernelspec": {
      "name": "python3",
      "display_name": "Python 3"
    },
    "language_info": {
      "name": "python"
    }
  },
  "cells": [
    {
      "cell_type": "markdown",
      "metadata": {
        "id": "view-in-github",
        "colab_type": "text"
      },
      "source": [
        "<a href=\"https://colab.research.google.com/github/tatiana17899/PythonEDXCourse/blob/main/Modulo_13_y_14.ipynb\" target=\"_parent\"><img src=\"https://colab.research.google.com/assets/colab-badge.svg\" alt=\"Open In Colab\"/></a>"
      ]
    },
    {
      "cell_type": "code",
      "source": [
        "listaprecios= 156.0\n",
        "descuento = 0.45\n",
        "finalprecio = listaprecios - (listaprecios*descuento)\n"
      ],
      "metadata": {
        "id": "jwf87sJWg2_V"
      },
      "execution_count": 47,
      "outputs": []
    },
    {
      "cell_type": "code",
      "source": [
        "print(\"Final del precio es \"+ f\"{finalprecio:.2f}\")"
      ],
      "metadata": {
        "colab": {
          "base_uri": "https://localhost:8080/"
        },
        "id": "IX2-IvyChJJ-",
        "outputId": "ea7a88a6-1dc9-4540-c0d6-f873c07fc124"
      },
      "execution_count": 50,
      "outputs": [
        {
          "output_type": "stream",
          "name": "stdout",
          "text": [
            "Final del precio es 85.80\n"
          ]
        }
      ]
    },
    {
      "cell_type": "code",
      "source": [
        "testcore= 31\n",
        "if testcore >= 90:\n",
        "  print(\"score: \"+ f\"{testcore:.2f}\")\n",
        "  print(\"Congrats\")\n",
        "else:\n",
        "  print(\"sorry try again\")\n",
        "print(\"no if\")"
      ],
      "metadata": {
        "colab": {
          "base_uri": "https://localhost:8080/"
        },
        "id": "axTBu6FrieV6",
        "outputId": "9b88ba52-bb2e-448a-88fe-7d7431e2b7a7"
      },
      "execution_count": 54,
      "outputs": [
        {
          "output_type": "stream",
          "name": "stdout",
          "text": [
            "sorry try again\n",
            "no if\n"
          ]
        }
      ]
    },
    {
      "cell_type": "code",
      "source": [
        "testcore= 31\n",
        "if testcore >= 90:\n",
        "  print(\"score: \"+ f\"{testcore:.2f}\")\n",
        "  print(\"Congrats\")\n",
        "elif testcore >= 30:\n",
        "  print(\"buenaaaa\")\n",
        "else:\n",
        "  print(\"sorry try again\")\n",
        "print(\"no if\")"
      ],
      "metadata": {
        "colab": {
          "base_uri": "https://localhost:8080/"
        },
        "id": "-11s_5X_jSmm",
        "outputId": "af219f21-1212-41ea-aea7-77b318ab05c0"
      },
      "execution_count": 55,
      "outputs": [
        {
          "output_type": "stream",
          "name": "stdout",
          "text": [
            "buenaaaa\n",
            "no if\n"
          ]
        }
      ]
    }
  ]
}